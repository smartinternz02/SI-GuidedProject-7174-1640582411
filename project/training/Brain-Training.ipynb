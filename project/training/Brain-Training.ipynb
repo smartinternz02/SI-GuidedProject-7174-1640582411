{
 "cells": [
  {
   "cell_type": "code",
   "execution_count": 7,
   "metadata": {},
   "outputs": [],
   "source": [
    "from tensorflow.keras.preprocessing.image import ImageDataGenerator\n",
    "from tensorflow.keras.models import Sequential\n",
    "from tensorflow.keras.layers import Dense\n",
    "from tensorflow.keras.layers import Convolution2D\n",
    "from tensorflow.keras.layers import MaxPooling2D\n",
    "from tensorflow.keras.layers import Flatten,Conv2D,BatchNormalization,Dropout"
   ]
  },
  {
   "cell_type": "code",
   "execution_count": 8,
   "metadata": {},
   "outputs": [],
   "source": [
    "train_datagen = ImageDataGenerator(rescale = 1./255,shear_range = 0.2,zoom_range = 0.2,horizontal_flip = True)\n",
    "test_datagen =ImageDataGenerator(rescale = 1)"
   ]
  },
  {
   "cell_type": "code",
   "execution_count": 9,
   "metadata": {},
   "outputs": [
    {
     "name": "stdout",
     "output_type": "stream",
     "text": [
      "Found 180 images belonging to 2 classes.\n",
      "Found 73 images belonging to 2 classes.\n"
     ]
    }
   ],
   "source": [
    "x_train = train_datagen.flow_from_directory(r'C:\\Users\\VICKY\\Desktop\\project\\dataset\\Brain_Tumor_Train_Test_Folders\\train_set',target_size = (64,64),batch_size = 15, class_mode = 'binary')\n",
    "x_test =  test_datagen.flow_from_directory(r'C:\\Users\\VICKY\\Desktop\\project\\dataset\\Brain_Tumor_Train_Test_Folders\\test_set',target_size = (64,64),batch_size = 15, class_mode = 'binary')"
   ]
  },
  {
   "cell_type": "code",
   "execution_count": 10,
   "metadata": {},
   "outputs": [
    {
     "name": "stdout",
     "output_type": "stream",
     "text": [
      "{'no': 0, 'yes': 1}\n"
     ]
    }
   ],
   "source": [
    "print(x_train.class_indices)"
   ]
  },
  {
   "cell_type": "code",
   "execution_count": 11,
   "metadata": {},
   "outputs": [],
   "source": [
    "model=Sequential()\n",
    "model.add(Conv2D(30,(3,3),activation='relu',input_shape=(64,64,3)))\n",
    "model.add(BatchNormalization())\n",
    "model.add(MaxPooling2D(pool_size=(2,2)))\n",
    "model.add(Dropout(0.2))\n",
    "model.add(Conv2D(75,(3,3),activation='relu'))\n",
    "model.add(BatchNormalization())\n",
    "model.add(MaxPooling2D(pool_size=(2,2)))\n",
    "model.add(Dropout(0.2))\n",
    "model.add(Conv2D(120,(3,3),activation='relu'))\n",
    "model.add(BatchNormalization())\n",
    "model.add(MaxPooling2D(pool_size=(2,2)))\n",
    "model.add(Dropout(0.2))\n",
    "model.add(Flatten())\n",
    "model.add(Dense(220,activation='relu'))\n",
    "model.add(BatchNormalization())\n",
    "model.add(Dropout(0.2))\n",
    "model.add(Dense(1,activation='sigmoid'))\n",
    "model.compile(optimizer='adam',loss='binary_crossentropy',metrics=['accuracy'])"
   ]
  },
  {
   "cell_type": "code",
   "execution_count": 12,
   "metadata": {},
   "outputs": [
    {
     "name": "stdout",
     "output_type": "stream",
     "text": [
      "Epoch 1/10\n",
      "12/12 [==============================] - 2s 144ms/step - loss: 1.0569 - accuracy: 0.6000 - val_loss: 104.8870 - val_accuracy: 0.4500\n",
      "Epoch 2/10\n",
      "12/12 [==============================] - 1s 117ms/step - loss: 0.6933 - accuracy: 0.6778 - val_loss: 227.6948 - val_accuracy: 0.4833\n",
      "Epoch 3/10\n",
      "12/12 [==============================] - 1s 115ms/step - loss: 0.5554 - accuracy: 0.7611 - val_loss: 187.2470 - val_accuracy: 0.4833\n",
      "Epoch 4/10\n",
      "12/12 [==============================] - 1s 118ms/step - loss: 0.5295 - accuracy: 0.7278 - val_loss: 88.9591 - val_accuracy: 0.5333\n",
      "Epoch 5/10\n",
      "12/12 [==============================] - 1s 115ms/step - loss: 0.4754 - accuracy: 0.7556 - val_loss: 299.1215 - val_accuracy: 0.4833\n",
      "Epoch 6/10\n",
      "12/12 [==============================] - 1s 115ms/step - loss: 0.4326 - accuracy: 0.7944 - val_loss: 98.3561 - val_accuracy: 0.5333\n",
      "Epoch 7/10\n",
      "12/12 [==============================] - 1s 113ms/step - loss: 0.4351 - accuracy: 0.8056 - val_loss: 175.4841 - val_accuracy: 0.5000\n",
      "Epoch 8/10\n",
      "12/12 [==============================] - 1s 120ms/step - loss: 0.3522 - accuracy: 0.8500 - val_loss: 173.0312 - val_accuracy: 0.4833\n",
      "Epoch 9/10\n",
      "12/12 [==============================] - 1s 121ms/step - loss: 0.3399 - accuracy: 0.8667 - val_loss: 310.5262 - val_accuracy: 0.5167\n",
      "Epoch 10/10\n",
      "12/12 [==============================] - 1s 121ms/step - loss: 0.3928 - accuracy: 0.8111 - val_loss: 362.6430 - val_accuracy: 0.4667\n"
     ]
    },
    {
     "data": {
      "text/plain": [
       "<tensorflow.python.keras.callbacks.History at 0x20e002f9d90>"
      ]
     },
     "execution_count": 12,
     "metadata": {},
     "output_type": "execute_result"
    }
   ],
   "source": [
    "model.fit_generator(x_train, steps_per_epoch = 180//15,epochs = 10,validation_data = x_test,validation_steps = 73//15)"
   ]
  },
  {
   "cell_type": "code",
   "execution_count": 13,
   "metadata": {},
   "outputs": [],
   "source": [
    "model.save(\"braintumor_new.h5\")"
   ]
  },
  {
   "cell_type": "code",
   "execution_count": null,
   "metadata": {},
   "outputs": [],
   "source": []
  }
 ],
 "metadata": {
  "kernelspec": {
   "display_name": "Python 3",
   "language": "python",
   "name": "python3"
  },
  "language_info": {
   "codemirror_mode": {
    "name": "ipython",
    "version": 3
   },
   "file_extension": ".py",
   "mimetype": "text/x-python",
   "name": "python",
   "nbconvert_exporter": "python",
   "pygments_lexer": "ipython3",
   "version": "3.8.8"
  }
 },
 "nbformat": 4,
 "nbformat_minor": 2
}
