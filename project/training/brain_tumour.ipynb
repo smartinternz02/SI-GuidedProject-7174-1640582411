{
 "cells": [
  {
   "cell_type": "code",
   "execution_count": 1,
   "metadata": {},
   "outputs": [],
   "source": [
    "#import image datagenerator library\n",
    "from tensorflow.keras.preprocessing.image import ImageDataGenerator"
   ]
  },
  {
   "cell_type": "code",
   "execution_count": 2,
   "metadata": {},
   "outputs": [],
   "source": [
    "train_datagen = ImageDataGenerator(rescale=1./255,\n",
    "                                   shear_range=0.1,\n",
    "                                   zoom_range=0.1,\n",
    "                                   horizontal_flip=True)"
   ]
  },
  {
   "cell_type": "code",
   "execution_count": 3,
   "metadata": {},
   "outputs": [],
   "source": [
    "val_datagen = ImageDataGenerator(rescale = 1./255)"
   ]
  },
  {
   "cell_type": "code",
   "execution_count": 4,
   "metadata": {},
   "outputs": [
    {
     "name": "stdout",
     "output_type": "stream",
     "text": [
      "Found 180 images belonging to 2 classes.\n"
     ]
    }
   ],
   "source": [
    "train_transform = train_datagen.flow_from_directory(r'C:\\Users\\VICKY\\Desktop\\project\\dataset\\Brain_Tumor_Train_Test_Folders\\train_set',\n",
    "                                            target_size=(128,128),\n",
    "                                            batch_size=64,\n",
    "                                            class_mode='categorical')"
   ]
  },
  {
   "cell_type": "code",
   "execution_count": 5,
   "metadata": {},
   "outputs": [
    {
     "name": "stdout",
     "output_type": "stream",
     "text": [
      "Found 73 images belonging to 2 classes.\n"
     ]
    }
   ],
   "source": [
    "test_transform = val_datagen.flow_from_directory(r'C:\\Users\\VICKY\\Desktop\\project\\dataset\\Brain_Tumor_Train_Test_Folders\\test_set',\n",
    "                                            target_size=(128,128),\n",
    "                                            batch_size=64,\n",
    "                                            class_mode='categorical')"
   ]
  },
  {
   "cell_type": "code",
   "execution_count": 6,
   "metadata": {},
   "outputs": [],
   "source": [
    "#to define linear initializations import Sequential\n",
    "from tensorflow.keras.models import Sequential\n",
    "#To add layers import Dense\n",
    "from tensorflow.keras.layers import Dense\n",
    "# to create a convolution kernel import Convolution2D\n",
    "from tensorflow.keras.layers import Convolution2D\n",
    "# Adding Max pooling Layer\n",
    "from tensorflow.keras.layers import MaxPooling2D\n",
    "# Adding Flatten Layer\n",
    "from tensorflow.keras.layers import Flatten\n",
    "from tensorflow.keras.optimizers import Adam"
   ]
  },
  {
   "cell_type": "code",
   "execution_count": 7,
   "metadata": {},
   "outputs": [],
   "source": [
    "# Initializing the model\n",
    "model=Sequential()"
   ]
  },
  {
   "cell_type": "code",
   "execution_count": 8,
   "metadata": {},
   "outputs": [],
   "source": [
    "model.add(Convolution2D(32,(3,3),input_shape=(128,128,3),activation='relu'))\n",
    "model.add(MaxPooling2D(2,2))"
   ]
  },
  {
   "cell_type": "code",
   "execution_count": 9,
   "metadata": {},
   "outputs": [],
   "source": [
    "model.add(Convolution2D(64,(3,3),padding='same',activation='relu'))\n",
    "model.add(MaxPooling2D(pool_size=2))"
   ]
  },
  {
   "cell_type": "code",
   "execution_count": 10,
   "metadata": {},
   "outputs": [],
   "source": [
    "model.add(Convolution2D(32,(3,3),activation='relu'))\n",
    "model.add(MaxPooling2D(2,2))"
   ]
  },
  {
   "cell_type": "code",
   "execution_count": 11,
   "metadata": {},
   "outputs": [],
   "source": [
    "model.add(Convolution2D(32,(3,3), padding='same',activation='relu'))\n",
    "model.add(MaxPooling2D(pool_size=2)) "
   ]
  },
  {
   "cell_type": "code",
   "execution_count": 12,
   "metadata": {},
   "outputs": [],
   "source": [
    "model.add(Flatten()) "
   ]
  },
  {
   "cell_type": "code",
   "execution_count": 13,
   "metadata": {},
   "outputs": [
    {
     "data": {
      "text/plain": [
       "(None, 1568)"
      ]
     },
     "execution_count": 13,
     "metadata": {},
     "output_type": "execute_result"
    }
   ],
   "source": [
    "model.output_shape"
   ]
  },
  {
   "cell_type": "code",
   "execution_count": 14,
   "metadata": {},
   "outputs": [
    {
     "name": "stdout",
     "output_type": "stream",
     "text": [
      "Model: \"sequential\"\n",
      "_________________________________________________________________\n",
      "Layer (type)                 Output Shape              Param #   \n",
      "=================================================================\n",
      "conv2d (Conv2D)              (None, 126, 126, 32)      896       \n",
      "_________________________________________________________________\n",
      "max_pooling2d (MaxPooling2D) (None, 63, 63, 32)        0         \n",
      "_________________________________________________________________\n",
      "conv2d_1 (Conv2D)            (None, 63, 63, 64)        18496     \n",
      "_________________________________________________________________\n",
      "max_pooling2d_1 (MaxPooling2 (None, 31, 31, 64)        0         \n",
      "_________________________________________________________________\n",
      "conv2d_2 (Conv2D)            (None, 29, 29, 32)        18464     \n",
      "_________________________________________________________________\n",
      "max_pooling2d_2 (MaxPooling2 (None, 14, 14, 32)        0         \n",
      "_________________________________________________________________\n",
      "conv2d_3 (Conv2D)            (None, 14, 14, 32)        9248      \n",
      "_________________________________________________________________\n",
      "max_pooling2d_3 (MaxPooling2 (None, 7, 7, 32)          0         \n",
      "_________________________________________________________________\n",
      "flatten (Flatten)            (None, 1568)              0         \n",
      "=================================================================\n",
      "Total params: 47,104\n",
      "Trainable params: 47,104\n",
      "Non-trainable params: 0\n",
      "_________________________________________________________________\n"
     ]
    }
   ],
   "source": [
    "model.summary()"
   ]
  },
  {
   "cell_type": "code",
   "execution_count": 15,
   "metadata": {},
   "outputs": [],
   "source": [
    "# Adding 1st hidden layer\n",
    "model.add(Dense(kernel_initializer='uniform',activation='relu',units=150))"
   ]
  },
  {
   "cell_type": "code",
   "execution_count": 16,
   "metadata": {},
   "outputs": [],
   "source": [
    "model.add(Dense(kernel_initializer='uniform',activation='relu',units=68))"
   ]
  },
  {
   "cell_type": "code",
   "execution_count": 17,
   "metadata": {},
   "outputs": [],
   "source": [
    "model.add(Dense(kernel_initializer='uniform',activation='softmax',units=2))"
   ]
  },
  {
   "cell_type": "raw",
   "metadata": {},
   "source": [
    "model.compile(loss='categorical_crossentropy', optimizer=Adam(lr=0.001), metrics=['acc'])"
   ]
  },
  {
   "cell_type": "raw",
   "metadata": {},
   "source": [
    "model.add(Dropout(0.5))"
   ]
  },
  {
   "cell_type": "code",
   "execution_count": 18,
   "metadata": {},
   "outputs": [],
   "source": [
    "model.compile(loss='categorical_crossentropy', optimizer='adam', metrics=['acc'])"
   ]
  },
  {
   "cell_type": "code",
   "execution_count": 19,
   "metadata": {},
   "outputs": [
    {
     "name": "stdout",
     "output_type": "stream",
     "text": [
      "Model: \"sequential\"\n",
      "_________________________________________________________________\n",
      "Layer (type)                 Output Shape              Param #   \n",
      "=================================================================\n",
      "conv2d (Conv2D)              (None, 126, 126, 32)      896       \n",
      "_________________________________________________________________\n",
      "max_pooling2d (MaxPooling2D) (None, 63, 63, 32)        0         \n",
      "_________________________________________________________________\n",
      "conv2d_1 (Conv2D)            (None, 63, 63, 64)        18496     \n",
      "_________________________________________________________________\n",
      "max_pooling2d_1 (MaxPooling2 (None, 31, 31, 64)        0         \n",
      "_________________________________________________________________\n",
      "conv2d_2 (Conv2D)            (None, 29, 29, 32)        18464     \n",
      "_________________________________________________________________\n",
      "max_pooling2d_2 (MaxPooling2 (None, 14, 14, 32)        0         \n",
      "_________________________________________________________________\n",
      "conv2d_3 (Conv2D)            (None, 14, 14, 32)        9248      \n",
      "_________________________________________________________________\n",
      "max_pooling2d_3 (MaxPooling2 (None, 7, 7, 32)          0         \n",
      "_________________________________________________________________\n",
      "flatten (Flatten)            (None, 1568)              0         \n",
      "_________________________________________________________________\n",
      "dense (Dense)                (None, 150)               235350    \n",
      "_________________________________________________________________\n",
      "dense_1 (Dense)              (None, 68)                10268     \n",
      "_________________________________________________________________\n",
      "dense_2 (Dense)              (None, 2)                 138       \n",
      "=================================================================\n",
      "Total params: 292,860\n",
      "Trainable params: 292,860\n",
      "Non-trainable params: 0\n",
      "_________________________________________________________________\n"
     ]
    }
   ],
   "source": [
    "model.summary()"
   ]
  },
  {
   "cell_type": "code",
   "execution_count": 20,
   "metadata": {},
   "outputs": [
    {
     "name": "stdout",
     "output_type": "stream",
     "text": [
      "WARNING:tensorflow:From <ipython-input-20-9491790ef352>:1: Model.fit_generator (from tensorflow.python.keras.engine.training) is deprecated and will be removed in a future version.\n",
      "Instructions for updating:\n",
      "Please use Model.fit, which supports generators.\n",
      "Epoch 1/30\n",
      "2/2 [==============================] - 2s 786ms/step - loss: 0.6905 - acc: 0.5259 - val_loss: 0.6957 - val_acc: 0.4375\n",
      "Epoch 2/30\n",
      "2/2 [==============================] - 1s 548ms/step - loss: 0.6616 - acc: 0.7069 - val_loss: 0.7101 - val_acc: 0.4844\n",
      "Epoch 3/30\n",
      "2/2 [==============================] - 1s 521ms/step - loss: 0.6502 - acc: 0.6484 - val_loss: 0.7888 - val_acc: 0.4688\n",
      "Epoch 4/30\n",
      "2/2 [==============================] - 1s 536ms/step - loss: 0.6471 - acc: 0.6250 - val_loss: 0.7668 - val_acc: 0.4531\n",
      "Epoch 5/30\n",
      "2/2 [==============================] - 1s 486ms/step - loss: 0.6162 - acc: 0.6638 - val_loss: 0.7187 - val_acc: 0.4531\n",
      "Epoch 6/30\n",
      "2/2 [==============================] - 1s 515ms/step - loss: 0.6065 - acc: 0.6638 - val_loss: 0.7311 - val_acc: 0.4688\n",
      "Epoch 7/30\n",
      "2/2 [==============================] - 1s 532ms/step - loss: 0.5976 - acc: 0.6552 - val_loss: 0.7740 - val_acc: 0.4531\n",
      "Epoch 8/30\n",
      "2/2 [==============================] - 1s 520ms/step - loss: 0.5831 - acc: 0.6719 - val_loss: 0.7239 - val_acc: 0.4688\n",
      "Epoch 9/30\n",
      "2/2 [==============================] - 1s 520ms/step - loss: 0.5786 - acc: 0.6562 - val_loss: 0.7152 - val_acc: 0.4531\n",
      "Epoch 10/30\n",
      "2/2 [==============================] - 1s 518ms/step - loss: 0.5675 - acc: 0.6875 - val_loss: 0.6485 - val_acc: 0.5469\n",
      "Epoch 11/30\n",
      "2/2 [==============================] - 1s 530ms/step - loss: 0.5673 - acc: 0.7109 - val_loss: 0.6350 - val_acc: 0.6406\n",
      "Epoch 12/30\n",
      "2/2 [==============================] - 1s 438ms/step - loss: 0.5429 - acc: 0.7069 - val_loss: 0.6238 - val_acc: 0.7344\n",
      "Epoch 13/30\n",
      "2/2 [==============================] - 1s 454ms/step - loss: 0.5597 - acc: 0.7069 - val_loss: 0.5854 - val_acc: 0.7969\n",
      "Epoch 14/30\n",
      "2/2 [==============================] - 1s 555ms/step - loss: 0.5779 - acc: 0.7069 - val_loss: 0.6926 - val_acc: 0.6562\n",
      "Epoch 15/30\n",
      "2/2 [==============================] - 1s 538ms/step - loss: 0.5381 - acc: 0.7328 - val_loss: 0.6381 - val_acc: 0.7031\n",
      "Epoch 16/30\n",
      "2/2 [==============================] - 1s 488ms/step - loss: 0.5490 - acc: 0.7266 - val_loss: 0.6024 - val_acc: 0.7812\n",
      "Epoch 17/30\n",
      "2/2 [==============================] - 1s 456ms/step - loss: 0.5168 - acc: 0.7241 - val_loss: 0.6073 - val_acc: 0.7812\n",
      "Epoch 18/30\n",
      "2/2 [==============================] - 1s 488ms/step - loss: 0.5530 - acc: 0.6953 - val_loss: 0.6119 - val_acc: 0.7031\n",
      "Epoch 19/30\n",
      "2/2 [==============================] - 1s 504ms/step - loss: 0.5205 - acc: 0.7422 - val_loss: 0.6342 - val_acc: 0.6562\n",
      "Epoch 20/30\n",
      "2/2 [==============================] - 1s 448ms/step - loss: 0.5656 - acc: 0.6897 - val_loss: 0.5809 - val_acc: 0.8438\n",
      "Epoch 21/30\n",
      "2/2 [==============================] - 1s 516ms/step - loss: 0.5286 - acc: 0.7414 - val_loss: 0.5515 - val_acc: 0.7969\n",
      "Epoch 22/30\n",
      "2/2 [==============================] - 1s 512ms/step - loss: 0.5362 - acc: 0.6953 - val_loss: 0.5895 - val_acc: 0.7812\n",
      "Epoch 23/30\n",
      "2/2 [==============================] - 1s 456ms/step - loss: 0.5794 - acc: 0.6983 - val_loss: 0.5956 - val_acc: 0.7812\n",
      "Epoch 24/30\n",
      "2/2 [==============================] - 1s 539ms/step - loss: 0.5236 - acc: 0.7500 - val_loss: 0.5127 - val_acc: 0.8438\n",
      "Epoch 25/30\n",
      "2/2 [==============================] - 1s 542ms/step - loss: 0.5277 - acc: 0.7109 - val_loss: 0.5850 - val_acc: 0.7969\n",
      "Epoch 26/30\n",
      "2/2 [==============================] - 1s 532ms/step - loss: 0.5158 - acc: 0.7069 - val_loss: 0.5864 - val_acc: 0.7188\n",
      "Epoch 27/30\n",
      "2/2 [==============================] - 1s 539ms/step - loss: 0.5346 - acc: 0.7069 - val_loss: 0.5295 - val_acc: 0.8281\n",
      "Epoch 28/30\n",
      "2/2 [==============================] - 1s 493ms/step - loss: 0.5110 - acc: 0.7266 - val_loss: 0.4575 - val_acc: 0.8594\n",
      "Epoch 29/30\n",
      "2/2 [==============================] - 1s 477ms/step - loss: 0.5052 - acc: 0.7344 - val_loss: 0.5193 - val_acc: 0.7969\n",
      "Epoch 30/30\n",
      "2/2 [==============================] - 1s 430ms/step - loss: 0.4686 - acc: 0.7500 - val_loss: 0.5033 - val_acc: 0.8125\n"
     ]
    }
   ],
   "source": [
    "res = model.fit_generator(train_transform,steps_per_epoch=180//64,validation_steps=73//64,epochs=30,\n",
    "                          validation_data=test_transform)"
   ]
  },
  {
   "cell_type": "code",
   "execution_count": 21,
   "metadata": {},
   "outputs": [],
   "source": [
    "model.save('tumour.h5')"
   ]
  },
  {
   "cell_type": "code",
   "execution_count": 22,
   "metadata": {},
   "outputs": [],
   "source": [
    "#import numpy library\n",
    "import numpy as np\n",
    "#import load_model method to load our saved model\n",
    "from tensorflow.keras.models import load_model\n",
    "#import image from keras.preprocessing\n",
    "from tensorflow.keras.preprocessing import image\n",
    "#loading our saved model file\n",
    "model = load_model(\"tumour.h5\")\n",
    "img = image.load_img(r\"C:\\Users\\VICKY\\Desktop\\project\\dataset\\Brain_Tumor_Train_Test_Folders\\test_set\\no\\N21.JPG\",\n",
    "                     target_size=(128,128))\n",
    "\n",
    "x=image.img_to_array(img) #converting in to array format\n",
    "\n",
    "x=np.expand_dims(x,axis=0) #changing its dimensions as per our requirement \n",
    "#img_data=preprocess_input(x)\n",
    "#img_data.shape"
   ]
  },
  {
   "cell_type": "code",
   "execution_count": 23,
   "metadata": {},
   "outputs": [
    {
     "data": {
      "text/plain": [
       "array([0], dtype=int64)"
      ]
     },
     "execution_count": 23,
     "metadata": {},
     "output_type": "execute_result"
    }
   ],
   "source": [
    "a=np.argmax(model.predict(x), axis=1)\n",
    "a"
   ]
  },
  {
   "cell_type": "code",
   "execution_count": null,
   "metadata": {},
   "outputs": [],
   "source": []
  }
 ],
 "metadata": {
  "kernelspec": {
   "display_name": "Python 3",
   "language": "python",
   "name": "python3"
  },
  "language_info": {
   "codemirror_mode": {
    "name": "ipython",
    "version": 3
   },
   "file_extension": ".py",
   "mimetype": "text/x-python",
   "name": "python",
   "nbconvert_exporter": "python",
   "pygments_lexer": "ipython3",
   "version": "3.8.8"
  }
 },
 "nbformat": 4,
 "nbformat_minor": 4
}
